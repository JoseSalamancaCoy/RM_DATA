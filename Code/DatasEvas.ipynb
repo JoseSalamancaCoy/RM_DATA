{
 "cells": [
  {
   "cell_type": "code",
   "execution_count": 1,
   "metadata": {},
   "outputs": [],
   "source": [
    "import makesens.json_csv.json_to_csv as mkj\n",
    "import pandas as pd"
   ]
  },
  {
   "cell_type": "code",
   "execution_count": 2,
   "metadata": {},
   "outputs": [],
   "source": [
    "Eva2 = mkj.json_to_csv_eva('../Data/EVAS_Pilar/Eva2/Data/')"
   ]
  },
  {
   "cell_type": "code",
   "execution_count": 5,
   "metadata": {},
   "outputs": [
    {
     "output_type": "execute_result",
     "data": {
      "text/plain": [
       "                     pm10_13.0  pm2.5_13.0  pm1_13.0  pm10_14.0  pm2.5_14.0  \\\n",
       "2020-12-21 00:29:00     637.63      330.17      0.00      19.70      336.07   \n",
       "2020-12-21 00:30:00        NaN         NaN       NaN        NaN         NaN   \n",
       "2020-12-21 00:31:00        NaN         NaN       NaN        NaN         NaN   \n",
       "2020-12-21 00:32:00        NaN         NaN       NaN        NaN         NaN   \n",
       "2020-12-21 00:33:00        NaN         NaN       NaN        NaN         NaN   \n",
       "...                        ...         ...       ...        ...         ...   \n",
       "2021-01-03 12:58:00     160.33      149.40    117.57     116.00       10.57   \n",
       "2021-01-03 12:59:00     159.63      149.32    117.45     116.00        9.85   \n",
       "2021-01-03 13:00:00     159.53      149.37    117.33     116.00        9.57   \n",
       "2021-01-03 13:01:00     158.52      149.37    116.87     116.00        8.55   \n",
       "2021-01-03 13:02:00     159.17      149.58    117.40     115.98        9.07   \n",
       "\n",
       "                     pm1_14.0  noise_nan  illuminance_nan  irradiance_nan  \\\n",
       "2020-12-21 00:29:00    -20.00      71.07             48.0            0.00   \n",
       "2020-12-21 00:30:00       NaN        NaN              NaN             NaN   \n",
       "2020-12-21 00:31:00       NaN        NaN              NaN             NaN   \n",
       "2020-12-21 00:32:00       NaN        NaN              NaN             NaN   \n",
       "2020-12-21 00:33:00       NaN        NaN              NaN             NaN   \n",
       "...                       ...        ...              ...             ...   \n",
       "2021-01-03 12:58:00      1.37      15.00             49.0         6046.80   \n",
       "2021-01-03 12:59:00      0.92      15.00             49.0         6262.47   \n",
       "2021-01-03 13:00:00      0.93      15.00             49.0         6449.89   \n",
       "2021-01-03 13:01:00      0.55      15.00             49.0         6688.67   \n",
       "2021-01-03 13:02:00      0.80      15.00             49.0         6919.74   \n",
       "\n",
       "                     temperature_nan  ...  pm2.5_12.0  pm1_12.0  rain_nan  \\\n",
       "2020-12-21 00:29:00            26.08  ...         NaN       NaN       NaN   \n",
       "2020-12-21 00:30:00              NaN  ...         NaN       NaN       NaN   \n",
       "2020-12-21 00:31:00              NaN  ...         NaN       NaN       NaN   \n",
       "2020-12-21 00:32:00              NaN  ...         NaN       NaN       NaN   \n",
       "2020-12-21 00:33:00              NaN  ...         NaN       NaN       NaN   \n",
       "...                              ...  ...         ...       ...       ...   \n",
       "2021-01-03 12:58:00            23.83  ...         NaN       NaN       0.0   \n",
       "2021-01-03 12:59:00            23.90  ...         NaN       NaN       0.0   \n",
       "2021-01-03 13:00:00            23.95  ...         NaN       NaN       0.0   \n",
       "2021-01-03 13:01:00            24.00  ...         NaN       NaN       0.0   \n",
       "2021-01-03 13:02:00            24.07  ...         NaN       NaN       0.0   \n",
       "\n",
       "                     precipitation_nan  pm10_13  pm2.5_13  pm1_13  pm10_14  \\\n",
       "2020-12-21 00:29:00                NaN      NaN       NaN     NaN      NaN   \n",
       "2020-12-21 00:30:00                NaN      NaN       NaN     NaN      NaN   \n",
       "2020-12-21 00:31:00                NaN      NaN       NaN     NaN      NaN   \n",
       "2020-12-21 00:32:00                NaN      NaN       NaN     NaN      NaN   \n",
       "2020-12-21 00:33:00                NaN      NaN       NaN     NaN      NaN   \n",
       "...                                ...      ...       ...     ...      ...   \n",
       "2021-01-03 12:58:00                0.0      NaN       NaN     NaN      NaN   \n",
       "2021-01-03 12:59:00                0.0      NaN       NaN     NaN      NaN   \n",
       "2021-01-03 13:00:00                0.0      NaN       NaN     NaN      NaN   \n",
       "2021-01-03 13:01:00                0.0      NaN       NaN     NaN      NaN   \n",
       "2021-01-03 13:02:00                0.0      NaN       NaN     NaN      NaN   \n",
       "\n",
       "                     pm2.5_14  pm1_14  \n",
       "2020-12-21 00:29:00       NaN     NaN  \n",
       "2020-12-21 00:30:00       NaN     NaN  \n",
       "2020-12-21 00:31:00       NaN     NaN  \n",
       "2020-12-21 00:32:00       NaN     NaN  \n",
       "2020-12-21 00:33:00       NaN     NaN  \n",
       "...                       ...     ...  \n",
       "2021-01-03 12:58:00       NaN     NaN  \n",
       "2021-01-03 12:59:00       NaN     NaN  \n",
       "2021-01-03 13:00:00       NaN     NaN  \n",
       "2021-01-03 13:01:00       NaN     NaN  \n",
       "2021-01-03 13:02:00       NaN     NaN  \n",
       "\n",
       "[19474 rows x 49 columns]"
      ],
      "text/html": "<div>\n<style scoped>\n    .dataframe tbody tr th:only-of-type {\n        vertical-align: middle;\n    }\n\n    .dataframe tbody tr th {\n        vertical-align: top;\n    }\n\n    .dataframe thead th {\n        text-align: right;\n    }\n</style>\n<table border=\"1\" class=\"dataframe\">\n  <thead>\n    <tr style=\"text-align: right;\">\n      <th></th>\n      <th>pm10_13.0</th>\n      <th>pm2.5_13.0</th>\n      <th>pm1_13.0</th>\n      <th>pm10_14.0</th>\n      <th>pm2.5_14.0</th>\n      <th>pm1_14.0</th>\n      <th>noise_nan</th>\n      <th>illuminance_nan</th>\n      <th>irradiance_nan</th>\n      <th>temperature_nan</th>\n      <th>...</th>\n      <th>pm2.5_12.0</th>\n      <th>pm1_12.0</th>\n      <th>rain_nan</th>\n      <th>precipitation_nan</th>\n      <th>pm10_13</th>\n      <th>pm2.5_13</th>\n      <th>pm1_13</th>\n      <th>pm10_14</th>\n      <th>pm2.5_14</th>\n      <th>pm1_14</th>\n    </tr>\n  </thead>\n  <tbody>\n    <tr>\n      <th>2020-12-21 00:29:00</th>\n      <td>637.63</td>\n      <td>330.17</td>\n      <td>0.00</td>\n      <td>19.70</td>\n      <td>336.07</td>\n      <td>-20.00</td>\n      <td>71.07</td>\n      <td>48.0</td>\n      <td>0.00</td>\n      <td>26.08</td>\n      <td>...</td>\n      <td>NaN</td>\n      <td>NaN</td>\n      <td>NaN</td>\n      <td>NaN</td>\n      <td>NaN</td>\n      <td>NaN</td>\n      <td>NaN</td>\n      <td>NaN</td>\n      <td>NaN</td>\n      <td>NaN</td>\n    </tr>\n    <tr>\n      <th>2020-12-21 00:30:00</th>\n      <td>NaN</td>\n      <td>NaN</td>\n      <td>NaN</td>\n      <td>NaN</td>\n      <td>NaN</td>\n      <td>NaN</td>\n      <td>NaN</td>\n      <td>NaN</td>\n      <td>NaN</td>\n      <td>NaN</td>\n      <td>...</td>\n      <td>NaN</td>\n      <td>NaN</td>\n      <td>NaN</td>\n      <td>NaN</td>\n      <td>NaN</td>\n      <td>NaN</td>\n      <td>NaN</td>\n      <td>NaN</td>\n      <td>NaN</td>\n      <td>NaN</td>\n    </tr>\n    <tr>\n      <th>2020-12-21 00:31:00</th>\n      <td>NaN</td>\n      <td>NaN</td>\n      <td>NaN</td>\n      <td>NaN</td>\n      <td>NaN</td>\n      <td>NaN</td>\n      <td>NaN</td>\n      <td>NaN</td>\n      <td>NaN</td>\n      <td>NaN</td>\n      <td>...</td>\n      <td>NaN</td>\n      <td>NaN</td>\n      <td>NaN</td>\n      <td>NaN</td>\n      <td>NaN</td>\n      <td>NaN</td>\n      <td>NaN</td>\n      <td>NaN</td>\n      <td>NaN</td>\n      <td>NaN</td>\n    </tr>\n    <tr>\n      <th>2020-12-21 00:32:00</th>\n      <td>NaN</td>\n      <td>NaN</td>\n      <td>NaN</td>\n      <td>NaN</td>\n      <td>NaN</td>\n      <td>NaN</td>\n      <td>NaN</td>\n      <td>NaN</td>\n      <td>NaN</td>\n      <td>NaN</td>\n      <td>...</td>\n      <td>NaN</td>\n      <td>NaN</td>\n      <td>NaN</td>\n      <td>NaN</td>\n      <td>NaN</td>\n      <td>NaN</td>\n      <td>NaN</td>\n      <td>NaN</td>\n      <td>NaN</td>\n      <td>NaN</td>\n    </tr>\n    <tr>\n      <th>2020-12-21 00:33:00</th>\n      <td>NaN</td>\n      <td>NaN</td>\n      <td>NaN</td>\n      <td>NaN</td>\n      <td>NaN</td>\n      <td>NaN</td>\n      <td>NaN</td>\n      <td>NaN</td>\n      <td>NaN</td>\n      <td>NaN</td>\n      <td>...</td>\n      <td>NaN</td>\n      <td>NaN</td>\n      <td>NaN</td>\n      <td>NaN</td>\n      <td>NaN</td>\n      <td>NaN</td>\n      <td>NaN</td>\n      <td>NaN</td>\n      <td>NaN</td>\n      <td>NaN</td>\n    </tr>\n    <tr>\n      <th>...</th>\n      <td>...</td>\n      <td>...</td>\n      <td>...</td>\n      <td>...</td>\n      <td>...</td>\n      <td>...</td>\n      <td>...</td>\n      <td>...</td>\n      <td>...</td>\n      <td>...</td>\n      <td>...</td>\n      <td>...</td>\n      <td>...</td>\n      <td>...</td>\n      <td>...</td>\n      <td>...</td>\n      <td>...</td>\n      <td>...</td>\n      <td>...</td>\n      <td>...</td>\n      <td>...</td>\n    </tr>\n    <tr>\n      <th>2021-01-03 12:58:00</th>\n      <td>160.33</td>\n      <td>149.40</td>\n      <td>117.57</td>\n      <td>116.00</td>\n      <td>10.57</td>\n      <td>1.37</td>\n      <td>15.00</td>\n      <td>49.0</td>\n      <td>6046.80</td>\n      <td>23.83</td>\n      <td>...</td>\n      <td>NaN</td>\n      <td>NaN</td>\n      <td>0.0</td>\n      <td>0.0</td>\n      <td>NaN</td>\n      <td>NaN</td>\n      <td>NaN</td>\n      <td>NaN</td>\n      <td>NaN</td>\n      <td>NaN</td>\n    </tr>\n    <tr>\n      <th>2021-01-03 12:59:00</th>\n      <td>159.63</td>\n      <td>149.32</td>\n      <td>117.45</td>\n      <td>116.00</td>\n      <td>9.85</td>\n      <td>0.92</td>\n      <td>15.00</td>\n      <td>49.0</td>\n      <td>6262.47</td>\n      <td>23.90</td>\n      <td>...</td>\n      <td>NaN</td>\n      <td>NaN</td>\n      <td>0.0</td>\n      <td>0.0</td>\n      <td>NaN</td>\n      <td>NaN</td>\n      <td>NaN</td>\n      <td>NaN</td>\n      <td>NaN</td>\n      <td>NaN</td>\n    </tr>\n    <tr>\n      <th>2021-01-03 13:00:00</th>\n      <td>159.53</td>\n      <td>149.37</td>\n      <td>117.33</td>\n      <td>116.00</td>\n      <td>9.57</td>\n      <td>0.93</td>\n      <td>15.00</td>\n      <td>49.0</td>\n      <td>6449.89</td>\n      <td>23.95</td>\n      <td>...</td>\n      <td>NaN</td>\n      <td>NaN</td>\n      <td>0.0</td>\n      <td>0.0</td>\n      <td>NaN</td>\n      <td>NaN</td>\n      <td>NaN</td>\n      <td>NaN</td>\n      <td>NaN</td>\n      <td>NaN</td>\n    </tr>\n    <tr>\n      <th>2021-01-03 13:01:00</th>\n      <td>158.52</td>\n      <td>149.37</td>\n      <td>116.87</td>\n      <td>116.00</td>\n      <td>8.55</td>\n      <td>0.55</td>\n      <td>15.00</td>\n      <td>49.0</td>\n      <td>6688.67</td>\n      <td>24.00</td>\n      <td>...</td>\n      <td>NaN</td>\n      <td>NaN</td>\n      <td>0.0</td>\n      <td>0.0</td>\n      <td>NaN</td>\n      <td>NaN</td>\n      <td>NaN</td>\n      <td>NaN</td>\n      <td>NaN</td>\n      <td>NaN</td>\n    </tr>\n    <tr>\n      <th>2021-01-03 13:02:00</th>\n      <td>159.17</td>\n      <td>149.58</td>\n      <td>117.40</td>\n      <td>115.98</td>\n      <td>9.07</td>\n      <td>0.80</td>\n      <td>15.00</td>\n      <td>49.0</td>\n      <td>6919.74</td>\n      <td>24.07</td>\n      <td>...</td>\n      <td>NaN</td>\n      <td>NaN</td>\n      <td>0.0</td>\n      <td>0.0</td>\n      <td>NaN</td>\n      <td>NaN</td>\n      <td>NaN</td>\n      <td>NaN</td>\n      <td>NaN</td>\n      <td>NaN</td>\n    </tr>\n  </tbody>\n</table>\n<p>19474 rows × 49 columns</p>\n</div>"
     },
     "metadata": {},
     "execution_count": 5
    }
   ],
   "source": [
    "Eva2"
   ]
  },
  {
   "cell_type": "code",
   "execution_count": 4,
   "metadata": {},
   "outputs": [],
   "source": [
    "Eva2.to_csv('Eva2Pilar.csv')"
   ]
  },
  {
   "cell_type": "code",
   "execution_count": null,
   "metadata": {},
   "outputs": [],
   "source": []
  }
 ],
 "metadata": {
  "kernelspec": {
   "display_name": "Python 3",
   "language": "python",
   "name": "python3"
  },
  "language_info": {
   "codemirror_mode": {
    "name": "ipython",
    "version": 3
   },
   "file_extension": ".py",
   "mimetype": "text/x-python",
   "name": "python",
   "nbconvert_exporter": "python",
   "pygments_lexer": "ipython3",
   "version": "3.8.3"
  }
 },
 "nbformat": 4,
 "nbformat_minor": 4
}