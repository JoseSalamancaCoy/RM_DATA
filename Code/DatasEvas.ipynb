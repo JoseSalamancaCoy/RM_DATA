{
 "cells": [
  {
   "cell_type": "code",
   "execution_count": 1,
   "metadata": {},
   "outputs": [],
   "source": [
    "import makesens.json_csv.json_to_csv as mkj\n",
    "import pandas as pd"
   ]
  },
  {
   "cell_type": "code",
   "execution_count": 2,
   "metadata": {},
   "outputs": [
    {
     "output_type": "execute_result",
     "data": {
      "text/plain": [
       "                     pm10_nan  pm2.5_nan  pm1_nan  pm10_2.0  pm2.5_2.0  \\\n",
       "2020-09-11 00:26:00     26.30      25.30    17.53     28.70      27.47   \n",
       "2020-09-11 00:27:00       NaN        NaN      NaN       NaN        NaN   \n",
       "2020-09-11 00:28:00       NaN        NaN      NaN       NaN        NaN   \n",
       "2020-09-11 00:29:00       NaN        NaN      NaN       NaN        NaN   \n",
       "2020-09-11 00:30:00       NaN        NaN      NaN       NaN        NaN   \n",
       "...                       ...        ...      ...       ...        ...   \n",
       "2021-01-02 14:44:00     13.07      11.67     8.67     10.33      10.00   \n",
       "2021-01-02 14:45:00      9.60       9.38     7.30      8.98       8.63   \n",
       "2021-01-02 14:46:00     11.13      10.60     8.40      8.53       8.27   \n",
       "2021-01-02 14:47:00      9.67       9.33     7.07      8.87       8.53   \n",
       "2021-01-02 14:48:00     10.40      10.33     7.27      7.93       7.93   \n",
       "\n",
       "                     pm1_2.0  noise_nan  illuminance_nan  irradiance_nan  \\\n",
       "2020-09-11 00:26:00    20.67       1.26           595.00            0.00   \n",
       "2020-09-11 00:27:00      NaN        NaN              NaN             NaN   \n",
       "2020-09-11 00:28:00      NaN        NaN              NaN             NaN   \n",
       "2020-09-11 00:29:00      NaN        NaN              NaN             NaN   \n",
       "2020-09-11 00:30:00      NaN        NaN              NaN             NaN   \n",
       "...                      ...        ...              ...             ...   \n",
       "2021-01-02 14:44:00     8.73      35.97          2622.78        17523.52   \n",
       "2021-01-02 14:45:00     7.58      36.17          2611.00        17438.79   \n",
       "2021-01-02 14:46:00     6.67      35.99          2640.44        17515.82   \n",
       "2021-01-02 14:47:00     7.13      35.90          2622.78        17443.92   \n",
       "2021-01-02 14:48:00     7.07      36.45          2464.06        15451.55   \n",
       "\n",
       "                     temperature_nan  ...  pm10_4.0  pm1_4.0  pm2.5_4.0  \\\n",
       "2020-09-11 00:26:00            26.29  ...       NaN      NaN        NaN   \n",
       "2020-09-11 00:27:00              NaN  ...       NaN      NaN        NaN   \n",
       "2020-09-11 00:28:00              NaN  ...       NaN      NaN        NaN   \n",
       "2020-09-11 00:29:00              NaN  ...       NaN      NaN        NaN   \n",
       "2020-09-11 00:30:00              NaN  ...       NaN      NaN        NaN   \n",
       "...                              ...  ...       ...      ...        ...   \n",
       "2021-01-02 14:44:00            28.88  ...      7.27     1.53       1.53   \n",
       "2021-01-02 14:45:00            28.97  ...      0.78     0.60       0.57   \n",
       "2021-01-02 14:46:00            29.06  ...      3.67     0.60       0.60   \n",
       "2021-01-02 14:47:00            29.15  ...      1.33     0.33       0.33   \n",
       "2021-01-02 14:48:00            29.26  ...      4.00     0.07       0.07   \n",
       "\n",
       "                     pm10_5.0  pm2.5_6.0  pm2.5_5.0  pm1_5.0  pm10_6.0  \\\n",
       "2020-09-11 00:26:00       NaN        NaN        NaN      NaN       NaN   \n",
       "2020-09-11 00:27:00       NaN        NaN        NaN      NaN       NaN   \n",
       "2020-09-11 00:28:00       NaN        NaN        NaN      NaN       NaN   \n",
       "2020-09-11 00:29:00       NaN        NaN        NaN      NaN       NaN   \n",
       "2020-09-11 00:30:00       NaN        NaN        NaN      NaN       NaN   \n",
       "...                       ...        ...        ...      ...       ...   \n",
       "2021-01-02 14:44:00    833.20       0.20     443.47    44.73      1.07   \n",
       "2021-01-02 14:45:00    787.60       0.00     412.80    31.93      1.67   \n",
       "2021-01-02 14:46:00    706.80       0.00     374.40    39.07      2.60   \n",
       "2021-01-02 14:47:00    739.57       0.33     387.20    41.07      1.33   \n",
       "2021-01-02 14:48:00    719.60       0.00     380.80    35.07      0.73   \n",
       "\n",
       "                     pm10_5  pm2.5_6  \n",
       "2020-09-11 00:26:00     NaN      NaN  \n",
       "2020-09-11 00:27:00     NaN      NaN  \n",
       "2020-09-11 00:28:00     NaN      NaN  \n",
       "2020-09-11 00:29:00     NaN      NaN  \n",
       "2020-09-11 00:30:00     NaN      NaN  \n",
       "...                     ...      ...  \n",
       "2021-01-02 14:44:00     NaN      NaN  \n",
       "2021-01-02 14:45:00     NaN      NaN  \n",
       "2021-01-02 14:46:00     NaN      NaN  \n",
       "2021-01-02 14:47:00     NaN      NaN  \n",
       "2021-01-02 14:48:00     NaN      NaN  \n",
       "\n",
       "[163583 rows x 30 columns]"
      ],
      "text/html": "<div>\n<style scoped>\n    .dataframe tbody tr th:only-of-type {\n        vertical-align: middle;\n    }\n\n    .dataframe tbody tr th {\n        vertical-align: top;\n    }\n\n    .dataframe thead th {\n        text-align: right;\n    }\n</style>\n<table border=\"1\" class=\"dataframe\">\n  <thead>\n    <tr style=\"text-align: right;\">\n      <th></th>\n      <th>pm10_nan</th>\n      <th>pm2.5_nan</th>\n      <th>pm1_nan</th>\n      <th>pm10_2.0</th>\n      <th>pm2.5_2.0</th>\n      <th>pm1_2.0</th>\n      <th>noise_nan</th>\n      <th>illuminance_nan</th>\n      <th>irradiance_nan</th>\n      <th>temperature_nan</th>\n      <th>...</th>\n      <th>pm10_4.0</th>\n      <th>pm1_4.0</th>\n      <th>pm2.5_4.0</th>\n      <th>pm10_5.0</th>\n      <th>pm2.5_6.0</th>\n      <th>pm2.5_5.0</th>\n      <th>pm1_5.0</th>\n      <th>pm10_6.0</th>\n      <th>pm10_5</th>\n      <th>pm2.5_6</th>\n    </tr>\n  </thead>\n  <tbody>\n    <tr>\n      <th>2020-09-11 00:26:00</th>\n      <td>26.30</td>\n      <td>25.30</td>\n      <td>17.53</td>\n      <td>28.70</td>\n      <td>27.47</td>\n      <td>20.67</td>\n      <td>1.26</td>\n      <td>595.00</td>\n      <td>0.00</td>\n      <td>26.29</td>\n      <td>...</td>\n      <td>NaN</td>\n      <td>NaN</td>\n      <td>NaN</td>\n      <td>NaN</td>\n      <td>NaN</td>\n      <td>NaN</td>\n      <td>NaN</td>\n      <td>NaN</td>\n      <td>NaN</td>\n      <td>NaN</td>\n    </tr>\n    <tr>\n      <th>2020-09-11 00:27:00</th>\n      <td>NaN</td>\n      <td>NaN</td>\n      <td>NaN</td>\n      <td>NaN</td>\n      <td>NaN</td>\n      <td>NaN</td>\n      <td>NaN</td>\n      <td>NaN</td>\n      <td>NaN</td>\n      <td>NaN</td>\n      <td>...</td>\n      <td>NaN</td>\n      <td>NaN</td>\n      <td>NaN</td>\n      <td>NaN</td>\n      <td>NaN</td>\n      <td>NaN</td>\n      <td>NaN</td>\n      <td>NaN</td>\n      <td>NaN</td>\n      <td>NaN</td>\n    </tr>\n    <tr>\n      <th>2020-09-11 00:28:00</th>\n      <td>NaN</td>\n      <td>NaN</td>\n      <td>NaN</td>\n      <td>NaN</td>\n      <td>NaN</td>\n      <td>NaN</td>\n      <td>NaN</td>\n      <td>NaN</td>\n      <td>NaN</td>\n      <td>NaN</td>\n      <td>...</td>\n      <td>NaN</td>\n      <td>NaN</td>\n      <td>NaN</td>\n      <td>NaN</td>\n      <td>NaN</td>\n      <td>NaN</td>\n      <td>NaN</td>\n      <td>NaN</td>\n      <td>NaN</td>\n      <td>NaN</td>\n    </tr>\n    <tr>\n      <th>2020-09-11 00:29:00</th>\n      <td>NaN</td>\n      <td>NaN</td>\n      <td>NaN</td>\n      <td>NaN</td>\n      <td>NaN</td>\n      <td>NaN</td>\n      <td>NaN</td>\n      <td>NaN</td>\n      <td>NaN</td>\n      <td>NaN</td>\n      <td>...</td>\n      <td>NaN</td>\n      <td>NaN</td>\n      <td>NaN</td>\n      <td>NaN</td>\n      <td>NaN</td>\n      <td>NaN</td>\n      <td>NaN</td>\n      <td>NaN</td>\n      <td>NaN</td>\n      <td>NaN</td>\n    </tr>\n    <tr>\n      <th>2020-09-11 00:30:00</th>\n      <td>NaN</td>\n      <td>NaN</td>\n      <td>NaN</td>\n      <td>NaN</td>\n      <td>NaN</td>\n      <td>NaN</td>\n      <td>NaN</td>\n      <td>NaN</td>\n      <td>NaN</td>\n      <td>NaN</td>\n      <td>...</td>\n      <td>NaN</td>\n      <td>NaN</td>\n      <td>NaN</td>\n      <td>NaN</td>\n      <td>NaN</td>\n      <td>NaN</td>\n      <td>NaN</td>\n      <td>NaN</td>\n      <td>NaN</td>\n      <td>NaN</td>\n    </tr>\n    <tr>\n      <th>...</th>\n      <td>...</td>\n      <td>...</td>\n      <td>...</td>\n      <td>...</td>\n      <td>...</td>\n      <td>...</td>\n      <td>...</td>\n      <td>...</td>\n      <td>...</td>\n      <td>...</td>\n      <td>...</td>\n      <td>...</td>\n      <td>...</td>\n      <td>...</td>\n      <td>...</td>\n      <td>...</td>\n      <td>...</td>\n      <td>...</td>\n      <td>...</td>\n      <td>...</td>\n      <td>...</td>\n    </tr>\n    <tr>\n      <th>2021-01-02 14:44:00</th>\n      <td>13.07</td>\n      <td>11.67</td>\n      <td>8.67</td>\n      <td>10.33</td>\n      <td>10.00</td>\n      <td>8.73</td>\n      <td>35.97</td>\n      <td>2622.78</td>\n      <td>17523.52</td>\n      <td>28.88</td>\n      <td>...</td>\n      <td>7.27</td>\n      <td>1.53</td>\n      <td>1.53</td>\n      <td>833.20</td>\n      <td>0.20</td>\n      <td>443.47</td>\n      <td>44.73</td>\n      <td>1.07</td>\n      <td>NaN</td>\n      <td>NaN</td>\n    </tr>\n    <tr>\n      <th>2021-01-02 14:45:00</th>\n      <td>9.60</td>\n      <td>9.38</td>\n      <td>7.30</td>\n      <td>8.98</td>\n      <td>8.63</td>\n      <td>7.58</td>\n      <td>36.17</td>\n      <td>2611.00</td>\n      <td>17438.79</td>\n      <td>28.97</td>\n      <td>...</td>\n      <td>0.78</td>\n      <td>0.60</td>\n      <td>0.57</td>\n      <td>787.60</td>\n      <td>0.00</td>\n      <td>412.80</td>\n      <td>31.93</td>\n      <td>1.67</td>\n      <td>NaN</td>\n      <td>NaN</td>\n    </tr>\n    <tr>\n      <th>2021-01-02 14:46:00</th>\n      <td>11.13</td>\n      <td>10.60</td>\n      <td>8.40</td>\n      <td>8.53</td>\n      <td>8.27</td>\n      <td>6.67</td>\n      <td>35.99</td>\n      <td>2640.44</td>\n      <td>17515.82</td>\n      <td>29.06</td>\n      <td>...</td>\n      <td>3.67</td>\n      <td>0.60</td>\n      <td>0.60</td>\n      <td>706.80</td>\n      <td>0.00</td>\n      <td>374.40</td>\n      <td>39.07</td>\n      <td>2.60</td>\n      <td>NaN</td>\n      <td>NaN</td>\n    </tr>\n    <tr>\n      <th>2021-01-02 14:47:00</th>\n      <td>9.67</td>\n      <td>9.33</td>\n      <td>7.07</td>\n      <td>8.87</td>\n      <td>8.53</td>\n      <td>7.13</td>\n      <td>35.90</td>\n      <td>2622.78</td>\n      <td>17443.92</td>\n      <td>29.15</td>\n      <td>...</td>\n      <td>1.33</td>\n      <td>0.33</td>\n      <td>0.33</td>\n      <td>739.57</td>\n      <td>0.33</td>\n      <td>387.20</td>\n      <td>41.07</td>\n      <td>1.33</td>\n      <td>NaN</td>\n      <td>NaN</td>\n    </tr>\n    <tr>\n      <th>2021-01-02 14:48:00</th>\n      <td>10.40</td>\n      <td>10.33</td>\n      <td>7.27</td>\n      <td>7.93</td>\n      <td>7.93</td>\n      <td>7.07</td>\n      <td>36.45</td>\n      <td>2464.06</td>\n      <td>15451.55</td>\n      <td>29.26</td>\n      <td>...</td>\n      <td>4.00</td>\n      <td>0.07</td>\n      <td>0.07</td>\n      <td>719.60</td>\n      <td>0.00</td>\n      <td>380.80</td>\n      <td>35.07</td>\n      <td>0.73</td>\n      <td>NaN</td>\n      <td>NaN</td>\n    </tr>\n  </tbody>\n</table>\n<p>163583 rows × 30 columns</p>\n</div>"
     },
     "metadata": {},
     "execution_count": 2
    }
   ],
   "source": [
    "mkj.json_to_csv_eva('../Data/EVAS_Pilar/Eva1/Data/')"
   ]
  },
  {
   "cell_type": "code",
   "execution_count": null,
   "metadata": {},
   "outputs": [],
   "source": []
  }
 ],
 "metadata": {
  "kernelspec": {
   "display_name": "Python 3",
   "language": "python",
   "name": "python3"
  },
  "language_info": {
   "codemirror_mode": {
    "name": "ipython",
    "version": 3
   },
   "file_extension": ".py",
   "mimetype": "text/x-python",
   "name": "python",
   "nbconvert_exporter": "python",
   "pygments_lexer": "ipython3",
   "version": "3.8.3"
  }
 },
 "nbformat": 4,
 "nbformat_minor": 4
}