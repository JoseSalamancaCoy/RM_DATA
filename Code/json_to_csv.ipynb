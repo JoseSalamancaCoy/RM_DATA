{
 "cells": [
  {
   "cell_type": "code",
   "execution_count": 1,
   "metadata": {},
   "outputs": [],
   "source": [
    "import makesens.tratamiento.tratamiento as mkt\n",
    "import makesens.visualizacion.visualizacion as mkv\n",
    "import pandas as pd"
   ]
  },
  {
   "cell_type": "code",
   "execution_count": 2,
   "metadata": {},
   "outputs": [],
   "source": [
    "Eva1_1 = mkt.json_to_csv_eva('../Data/EVAS_Pilar/Eva1/Data/2020_12/')\n",
    "Eva2_1 = mkt.json_to_csv_eva('../Data/EVAS_Pilar/Eva2/Data/2020_12/')\n",
    "Eva3_1 = mkt.json_to_csv_eva('../Data/EVAS_Pilar/Eva3/Data/2020_12/')\n",
    "\n",
    "Eva1_2 = mkt.json_to_csv_eva('../Data/EVAS_Pilar/Eva1/Data/2021_01/')\n",
    "Eva2_2 = mkt.json_to_csv_eva('../Data/EVAS_Pilar/Eva2/Data/2021_01/')\n",
    "Eva3_2 = mkt.json_to_csv_eva('../Data/EVAS_Pilar/Eva3/Data/2021_01/')"
   ]
  },
  {
   "cell_type": "code",
   "execution_count": 3,
   "metadata": {},
   "outputs": [],
   "source": [
    " Eva1 = pd.concat([Eva1_1,Eva1_2],axis= 0)\n",
    " Eva2 = pd.concat([Eva2_1,Eva2_2],axis= 0)\n",
    " Eva3 = pd.concat([Eva3_1,Eva3_2],axis= 0)"
   ]
  },
  {
   "cell_type": "code",
   "execution_count": 4,
   "metadata": {},
   "outputs": [],
   "source": [
    "Eva1.index = pd.DatetimeIndex(Eva1.index).strftime('%Y-%m-%d %H:%M:%S')\n",
    "Eva2.index = pd.DatetimeIndex(Eva2.index).strftime('%Y-%m-%d %H:%M:%S')\n",
    "Eva3.index = pd.DatetimeIndex(Eva3.index).strftime('%Y-%m-%d %H:%M:%S')\n",
    "\n"
   ]
  },
  {
   "cell_type": "code",
   "execution_count": 5,
   "metadata": {},
   "outputs": [],
   "source": [
    "Eva1.index = Eva1.index.astype(\"datetime64[ns]\")\n",
    "Eva2.index = Eva2.index.astype(\"datetime64[ns]\")\n",
    "Eva3.index = Eva3.index.astype(\"datetime64[ns]\")\n"
   ]
  },
  {
   "cell_type": "code",
   "execution_count": 6,
   "metadata": {},
   "outputs": [],
   "source": [
    "def algo (data):\n",
    "    for i in data.columns:\n",
    "        data[i] = pd.to_numeric(data[i])\n",
    "    return data"
   ]
  },
  {
   "cell_type": "code",
   "execution_count": 7,
   "metadata": {},
   "outputs": [],
   "source": [
    "eva1 = algo(Eva1)\n",
    "eva2 = algo(Eva2)\n",
    "eva3 = algo(Eva3)"
   ]
  },
  {
   "cell_type": "code",
   "execution_count": 8,
   "metadata": {},
   "outputs": [],
   "source": [
    "eva1 = eva1.resample('1T').mean()\n",
    "eva2 = eva2.resample('1T').mean()\n",
    "eva3 = eva3.resample('1T').mean()"
   ]
  },
  {
   "cell_type": "code",
   "execution_count": 9,
   "metadata": {},
   "outputs": [],
   "source": [
    "eva1.to_csv('Eva1_pilar.csv')\n",
    "eva2.to_csv('Eva2_pilar.csv')\n",
    "eva3.to_csv('Eva3_pilar.csv')"
   ]
  },
  {
   "cell_type": "code",
   "execution_count": null,
   "metadata": {},
   "outputs": [],
   "source": []
  }
 ],
 "metadata": {
  "kernelspec": {
   "display_name": "Python 3",
   "language": "python",
   "name": "python3"
  },
  "language_info": {
   "codemirror_mode": {
    "name": "ipython",
    "version": 3
   },
   "file_extension": ".py",
   "mimetype": "text/x-python",
   "name": "python",
   "nbconvert_exporter": "python",
   "pygments_lexer": "ipython3",
   "version": "3.8.3-final"
  }
 },
 "nbformat": 4,
 "nbformat_minor": 4
}